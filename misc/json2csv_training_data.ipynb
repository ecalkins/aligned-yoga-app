{
 "cells": [
  {
   "cell_type": "code",
   "execution_count": 53,
   "metadata": {
    "ExecuteTime": {
     "end_time": "2019-04-10T05:01:54.495832Z",
     "start_time": "2019-04-10T05:01:54.492766Z"
    }
   },
   "outputs": [],
   "source": [
    "import pandas as pd\n",
    "import json\n",
    "import boto3\n",
    "import os\n",
    "from io import StringIO"
   ]
  },
  {
   "cell_type": "code",
   "execution_count": 65,
   "metadata": {
    "ExecuteTime": {
     "end_time": "2019-04-10T05:18:52.326972Z",
     "start_time": "2019-04-10T05:18:52.320651Z"
    }
   },
   "outputs": [],
   "source": [
    "def s3_json2df(folder, bucket_name='alignedstorage'):\n",
    "    '''\n",
    "    Create Pandas dataframe of keypoints from an s3 directory\n",
    "    of json files, with each row corresponding to a json.\n",
    "    Returns Pandas dataframe.\n",
    "    '''\n",
    "    s3 = boto3.resource('s3')\n",
    "    bucket = s3.Bucket(bucket_name)\n",
    "    df = pd.DataFrame(columns=list(range(75)))\n",
    "    for i, obj in enumerate(bucket.objects.filter(Prefix=folder)):\n",
    "        content_object = s3.Object(bucket_name, obj.key)\n",
    "        try:\n",
    "            file_content = content_object.get()['Body'].read().decode('utf-8')\n",
    "            json_content = json.loads(file_content)\n",
    "            data = json_content['people'][0]['pose_keypoints_2d']\n",
    "            df.loc[i] = data\n",
    "        except:\n",
    "            continue\n",
    "    return df\n",
    "\n",
    "def df2csv_s3(df, file_path, bucket_name='alignedstorage'):\n",
    "    '''\n",
    "    Convert Pandas dataframe to csv and upload to s3.\n",
    "    '''\n",
    "    s3 = boto3.resource('s3')\n",
    "    bucket = s3.Bucket(bucket_name)\n",
    "    csv_buffer = StringIO()\n",
    "    df.to_csv(csv_buffer)\n",
    "    bucket.put_object(Key=file_path, Body=csv_buffer.getvalue(), ACL='public-read')"
   ]
  },
  {
   "cell_type": "code",
   "execution_count": 60,
   "metadata": {
    "ExecuteTime": {
     "end_time": "2019-04-10T05:08:59.271264Z",
     "start_time": "2019-04-10T05:08:58.723190Z"
    }
   },
   "outputs": [],
   "source": [
    "bucket_name = 'alignedstorage'\n",
    "s3 = boto3.client(\"s3\")\n",
    "\n",
    "# Get the directories of json files for all poses in training data\n",
    "result = s3.list_objects(Bucket=bucket_name, Prefix='training_data/', Delimiter='/')\n",
    "folders = []\n",
    "for obj in result.get('CommonPrefixes'):\n",
    "    folders.append(obj.get('Prefix'))"
   ]
  },
  {
   "cell_type": "code",
   "execution_count": 73,
   "metadata": {
    "ExecuteTime": {
     "end_time": "2019-04-10T05:48:45.243668Z",
     "start_time": "2019-04-10T05:25:35.518595Z"
    }
   },
   "outputs": [],
   "source": [
    "# Loop through directories and save a csv of keypoints for each pose\n",
    "for folder in folders:\n",
    "    df = s3_json2df(folder=folder)\n",
    "    file_path = folder[:-1] + '.csv'\n",
    "    df2csv_s3(df=df, file_path=file_path)"
   ]
  },
  {
   "cell_type": "code",
   "execution_count": null,
   "metadata": {},
   "outputs": [],
   "source": []
  }
 ],
 "metadata": {
  "kernelspec": {
   "display_name": "Python 3",
   "language": "python",
   "name": "python3"
  },
  "language_info": {
   "codemirror_mode": {
    "name": "ipython",
    "version": 3
   },
   "file_extension": ".py",
   "mimetype": "text/x-python",
   "name": "python",
   "nbconvert_exporter": "python",
   "pygments_lexer": "ipython3",
   "version": "3.7.1"
  }
 },
 "nbformat": 4,
 "nbformat_minor": 2
}
