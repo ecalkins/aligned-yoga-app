{
 "cells": [
  {
   "cell_type": "code",
   "execution_count": 126,
   "metadata": {},
   "outputs": [],
   "source": [
    "import json\n",
    "from pprint import pprint\n",
    "import numpy as np\n",
    "import math\n",
    "from pathlib import Path\n",
    "from os import listdir\n",
    "from os.path import isfile, join\n",
    "import pandas as pd"
   ]
  },
  {
   "cell_type": "code",
   "execution_count": 2,
   "metadata": {},
   "outputs": [
    {
     "name": "stdout",
     "output_type": "stream",
     "text": [
      "{'people': [{'face_keypoints_2d': [],\n",
      "             'face_keypoints_3d': [],\n",
      "             'hand_left_keypoints_2d': [],\n",
      "             'hand_left_keypoints_3d': [],\n",
      "             'hand_right_keypoints_2d': [],\n",
      "             'hand_right_keypoints_3d': [],\n",
      "             'pose_keypoints_2d': [664.67,\n",
      "                                   202.318,\n",
      "                                   0.920632,\n",
      "                                   693.989,\n",
      "                                   257.204,\n",
      "                                   0.885338,\n",
      "                                   646.996,\n",
      "                                   257.136,\n",
      "                                   0.816551,\n",
      "                                   572.582,\n",
      "                                   237.529,\n",
      "                                   0.808893,\n",
      "                                   478.507,\n",
      "                                   216.048,\n",
      "                                   0.76705,\n",
      "                                   737.126,\n",
      "                                   257.193,\n",
      "                                   0.818614,\n",
      "                                   817.488,\n",
      "                                   259.045,\n",
      "                                   0.890326,\n",
      "                                   882.072,\n",
      "                                   259.149,\n",
      "                                   0.852787,\n",
      "                                   709.634,\n",
      "                                   411.881,\n",
      "                                   0.74827,\n",
      "                                   674.402,\n",
      "                                   411.899,\n",
      "                                   0.716526,\n",
      "                                   572.529,\n",
      "                                   456.959,\n",
      "                                   0.843002,\n",
      "                                   570.525,\n",
      "                                   588.283,\n",
      "                                   0.823482,\n",
      "                                   742.945,\n",
      "                                   409.944,\n",
      "                                   0.712613,\n",
      "                                   807.584,\n",
      "                                   503.957,\n",
      "                                   0.835228,\n",
      "                                   886.094,\n",
      "                                   584.247,\n",
      "                                   0.834873,\n",
      "                                   664.595,\n",
      "                                   194.506,\n",
      "                                   0.757584,\n",
      "                                   678.291,\n",
      "                                   194.456,\n",
      "                                   0.921337,\n",
      "                                   0,\n",
      "                                   0,\n",
      "                                   0,\n",
      "                                   709.628,\n",
      "                                   200.305,\n",
      "                                   0.813924,\n",
      "                                   915.438,\n",
      "                                   599.952,\n",
      "                                   0.73225,\n",
      "                                   917.393,\n",
      "                                   588.25,\n",
      "                                   0.801977,\n",
      "                                   886.1,\n",
      "                                   588.304,\n",
      "                                   0.739586,\n",
      "                                   515.785,\n",
      "                                   611.72,\n",
      "                                   0.590162,\n",
      "                                   521.64,\n",
      "                                   603.909,\n",
      "                                   0.591926,\n",
      "                                   576.533,\n",
      "                                   601.942,\n",
      "                                   0.748496],\n",
      "             'pose_keypoints_3d': []}],\n",
      " 'version': 1.2}\n"
     ]
    }
   ],
   "source": [
    "with open('warrior/warrior_000000000039_keypoints.json') as f:\n",
    "    one_correct_data = json.load(f)\n",
    "\n",
    "with open('warrior_incorrect/warrior_incorrect_000000000033_keypoints 8.28.45 PM.json') as f1:\n",
    "    one_incorrect_data = json.load(f1)\n",
    "pprint(one_correct_data)"
   ]
  },
  {
   "cell_type": "code",
   "execution_count": 3,
   "metadata": {},
   "outputs": [],
   "source": [
    "# Let's take only 'pose_keypoints_2d' array\n",
    "# The array is of length 75 and gives location of 25 keypoints\n",
    "# x, y and third number is always a confidence level of them between 0 and 1\n",
    "warrior = one_correct_data['people'][0]['pose_keypoints_2d']\n",
    "warrior_incorrect = one_incorrect_data['people'][0]['pose_keypoints_2d']"
   ]
  },
  {
   "cell_type": "code",
   "execution_count": 4,
   "metadata": {},
   "outputs": [
    {
     "data": {
      "text/plain": [
       "75"
      ]
     },
     "execution_count": 4,
     "metadata": {},
     "output_type": "execute_result"
    }
   ],
   "source": [
    "len(warrior)"
   ]
  },
  {
   "cell_type": "code",
   "execution_count": 5,
   "metadata": {},
   "outputs": [],
   "source": [
    "def x_y_points(data):\n",
    "    \"\"\"\n",
    "    from openpose 'pose_keypoints_2d' array, \n",
    "    finds x and y corridnates and return two lists\n",
    "    \"\"\"\n",
    "    x_warrior = []\n",
    "    y_warrior = []\n",
    "    c_warrior = [] # certainity of pose\n",
    "    keypoints = data['people'][0]['pose_keypoints_2d']\n",
    "    for n in range(len(keypoints)):\n",
    "        if (n%3) == 0:\n",
    "            x_warrior.append(keypoints[n])\n",
    "        elif (n%3) == 1:\n",
    "            y_warrior.append(keypoints[n])\n",
    "        elif (n%3) == 1:\n",
    "            c_warrior.append(keypoints[n])\n",
    "    \n",
    "    return x_warrior, y_warrior"
   ]
  },
  {
   "cell_type": "code",
   "execution_count": 7,
   "metadata": {},
   "outputs": [],
   "source": [
    "x_warrior_correct, y_warrior_correct = x_y_points(one_correct_data)"
   ]
  },
  {
   "cell_type": "code",
   "execution_count": 9,
   "metadata": {},
   "outputs": [
    {
     "data": {
      "text/plain": [
       "<matplotlib.collections.PathCollection at 0x1163ffcc0>"
      ]
     },
     "execution_count": 9,
     "metadata": {},
     "output_type": "execute_result"
    },
    {
     "data": {
      "image/png": "[encoded data removed]",
      "text/plain": [
       "<Figure size 432x288 with 1 Axes>"
      ]
     },
     "metadata": {
      "needs_background": "light"
     },
     "output_type": "display_data"
    }
   ],
   "source": [
    "from matplotlib.pyplot import scatter\n",
    "import matplotlib as plt\n",
    "scatter(x_warrior_correct, y_warrior_correct)"
   ]
  },
  {
   "cell_type": "code",
   "execution_count": 10,
   "metadata": {},
   "outputs": [
    {
     "data": {
      "text/plain": [
       "<matplotlib.collections.PathCollection at 0x1164c7f98>"
      ]
     },
     "execution_count": 10,
     "metadata": {},
     "output_type": "execute_result"
    },
    {
     "data": {
      "image/png": "[encoded data removed]",
      "text/plain": [
       "<Figure size 432x288 with 1 Axes>"
      ]
     },
     "metadata": {
      "needs_background": "light"
     },
     "output_type": "display_data"
    }
   ],
   "source": [
    "x_warrior_incorrect, y_warrior_incorrect = x_y_points(one_incorrect_data)\n",
    "scatter(x_warrior_incorrect, y_warrior_incorrect)"
   ]
  },
  {
   "cell_type": "code",
   "execution_count": 19,
   "metadata": {},
   "outputs": [],
   "source": [
    "POSE_BODY_25_BODY_PARTS  = {\n",
    "    0:\"Nose\",\n",
    "    1:\"Neck\",\n",
    "    2:\"RShoulder\",\n",
    "    3:\"RElbow\",\n",
    "    4:\"RWrist\",\n",
    "    5:\"LShoulder\",\n",
    "    6:\"LElbow\",\n",
    "    7:\"LWrist\",\n",
    "    8:\"MidHip\",\n",
    "    9:\"RHip\",\n",
    "    10:\"RKnee\",\n",
    "    11:\"RAnkle\",\n",
    "    12:\"LHip\",\n",
    "    13:\"LKnee\",\n",
    "    14:\"LAnkle\",\n",
    "    15:\"REye\",\n",
    "    16:\"LEye\",\n",
    "    17:\"REar\",\n",
    "    18:\"LEar\",\n",
    "    19:\"LBigToe\",\n",
    "    20:\"LSmallToe\",\n",
    "    21:\"LHeel\",\n",
    "    22:\"RBigToe\",\n",
    "    23:\"RSmallToe\",\n",
    "    24:\"RHeel\",\n",
    "    25:\"Background\"}"
   ]
  },
  {
   "cell_type": "code",
   "execution_count": 29,
   "metadata": {},
   "outputs": [],
   "source": [
    "def straight_arms(x, y, max_slope=0.2):\n",
    "    \"\"\"\n",
    "    input array of 25 x corridnates and array of 25 y corridinates from openpose (x_y_points(data))\n",
    "    output is slope of the line from one hand to another\n",
    "    perfectly straight arms would have a slope of zero.\n",
    "    7:\"LWrist\" and 4:\"RWrist\"\n",
    "    0 - straight\n",
    "    1 - not straight\n",
    "    returns slope and label\n",
    "    \"\"\"\n",
    "    slope = (y[4] - y[7])/(x[4]-x[7])\n",
    "    if -max_slope <= slope <= max_slope:\n",
    "        return slope, 0\n",
    "    else:\n",
    "        return slope, 1\n",
    "    "
   ]
  },
  {
   "cell_type": "code",
   "execution_count": 156,
   "metadata": {},
   "outputs": [
    {
     "data": {
      "text/plain": [
       "<matplotlib.collections.PathCollection at 0x118b83748>"
      ]
     },
     "execution_count": 156,
     "metadata": {},
     "output_type": "execute_result"
    },
    {
     "data": {
      "image/png": "[encoded data removed]",
      "text/plain": [
       "<Figure size 432x288 with 1 Axes>"
      ]
     },
     "metadata": {
      "needs_background": "light"
     },
     "output_type": "display_data"
    }
   ],
   "source": [
    "scatter(x_warrior_correct, y_warrior_correct)\n",
    "scatter(x_warrior_correct[4:5]+x_warrior_correct[7:8], y_warrior_correct[4:5]+y_warrior_correct[7:8], color='red')"
   ]
  },
  {
   "cell_type": "code",
   "execution_count": 30,
   "metadata": {},
   "outputs": [
    {
     "data": {
      "text/plain": [
       "(0.10680063930221897, 0)"
      ]
     },
     "execution_count": 30,
     "metadata": {},
     "output_type": "execute_result"
    }
   ],
   "source": [
    "straight_arms(x_warrior_correct, y_warrior_correct)"
   ]
  },
  {
   "cell_type": "code",
   "execution_count": 31,
   "metadata": {},
   "outputs": [
    {
     "data": {
      "text/plain": [
       "(0.12495087104990481, 0)"
      ]
     },
     "execution_count": 31,
     "metadata": {},
     "output_type": "execute_result"
    }
   ],
   "source": [
    "straight_arms(x_warrior_incorrect, y_warrior_incorrect) # arms are straight in incorrect"
   ]
  },
  {
   "cell_type": "code",
   "execution_count": 49,
   "metadata": {},
   "outputs": [],
   "source": [
    "def straight_torso(x, y, min_slope=9):\n",
    "    \"\"\"\n",
    "    1:\"Neck\" and 8:\"MidHip\"\n",
    "    perfect would be a vertial line, so steep/high slope is ideal\n",
    "    0 - straight\n",
    "    1 - not straight\n",
    "    returns slope and label\n",
    "    \"\"\"\n",
    "    slope = (y[1] - y[8])/(x[1]-x[8])\n",
    "    if abs(slope) >= min_slope:\n",
    "        return slope, 0\n",
    "    else:\n",
    "        return slope, 1\n",
    "    "
   ]
  },
  {
   "cell_type": "code",
   "execution_count": 50,
   "metadata": {},
   "outputs": [
    {
     "data": {
      "text/plain": [
       "(9.886673058485147, 0)"
      ]
     },
     "execution_count": 50,
     "metadata": {},
     "output_type": "execute_result"
    }
   ],
   "source": [
    "straight_torso(x_warrior_correct, y_warrior_correct)"
   ]
  },
  {
   "cell_type": "code",
   "execution_count": 52,
   "metadata": {},
   "outputs": [
    {
     "data": {
      "text/plain": [
       "(-5586.222222213189, 0)"
      ]
     },
     "execution_count": 52,
     "metadata": {},
     "output_type": "execute_result"
    }
   ],
   "source": [
    "straight_torso(x_warrior_incorrect, y_warrior_incorrect) # torso is straight in incorrect"
   ]
  },
  {
   "cell_type": "code",
   "execution_count": 85,
   "metadata": {},
   "outputs": [],
   "source": [
    "def torso_forward(x, y, min_slope=0.3):\n",
    "    \"\"\"\n",
    "    1:\"Neck\" and 8:\"MidHip\"\n",
    "    perfect would be a vertial line, so steep/high slope is ideal\n",
    "    for too far forward we see if the slope if larger than the min slope \n",
    "    0 - not too far forward\n",
    "    1 - too far forward\n",
    "    returns slope and label\n",
    "    \"\"\"\n",
    "    rev_slope = (x[1]-x[8])/(y[1] - y[8])\n",
    "    if rev_slope >= min_slope:\n",
    "        return rev_slope, 1\n",
    "    else:\n",
    "        return rev_slope, 0"
   ]
  },
  {
   "cell_type": "code",
   "execution_count": 86,
   "metadata": {},
   "outputs": [
    {
     "data": {
      "text/plain": [
       "(0.10114625962489565, 0)"
      ]
     },
     "execution_count": 86,
     "metadata": {},
     "output_type": "execute_result"
    }
   ],
   "source": [
    "torso_forward(x_warrior_correct, y_warrior_correct)"
   ]
  },
  {
   "cell_type": "code",
   "execution_count": 87,
   "metadata": {},
   "outputs": [
    {
     "data": {
      "text/plain": [
       "(-0.00017901185456310273, 0)"
      ]
     },
     "execution_count": 87,
     "metadata": {},
     "output_type": "execute_result"
    }
   ],
   "source": [
    "torso_forward(x_warrior_incorrect, y_warrior_incorrect)"
   ]
  },
  {
   "cell_type": "code",
   "execution_count": 91,
   "metadata": {},
   "outputs": [],
   "source": [
    "def torso_backward(x, y, min_slope=-0.3):\n",
    "    \"\"\"\n",
    "    1:\"Neck\" and 8:\"MidHip\"\n",
    "    perfect would be a vertial line, so steep/high slope is ideal\n",
    "    swtiches x and y for easier computation, want reversed slope to be zero if straight\n",
    "    for too far forward we see if the slope if larger than the min slope \n",
    "    0 - not too far forward\n",
    "    1 - too far forward\n",
    "    returns slope and label\n",
    "    \"\"\"\n",
    "    rev_slope = (x[1]-x[8])/(y[1] - y[8])\n",
    "    if rev_slope <= min_slope:\n",
    "        return rev_slope, 1\n",
    "    else:\n",
    "        return rev_slope, 0"
   ]
  },
  {
   "cell_type": "code",
   "execution_count": 92,
   "metadata": {},
   "outputs": [
    {
     "data": {
      "text/plain": [
       "(0.10114625962489565, 0)"
      ]
     },
     "execution_count": 92,
     "metadata": {},
     "output_type": "execute_result"
    }
   ],
   "source": [
    "torso_forward(x_warrior_correct, y_warrior_correct)"
   ]
  },
  {
   "cell_type": "code",
   "execution_count": 93,
   "metadata": {},
   "outputs": [
    {
     "data": {
      "text/plain": [
       "(-0.00017901185456310273, 0)"
      ]
     },
     "execution_count": 93,
     "metadata": {},
     "output_type": "execute_result"
    }
   ],
   "source": [
    "torso_forward(x_warrior_incorrect, y_warrior_incorrect)"
   ]
  },
  {
   "cell_type": "code",
   "execution_count": 94,
   "metadata": {},
   "outputs": [],
   "source": [
    "def hips_square(x, y, max_slope=0.2):\n",
    "    \"\"\"\n",
    "    9:\"RHip\" and 12:\"LHip\"\n",
    "    straight line (square hips) would have a slope of 0\n",
    "    0 - stright\n",
    "    1 - not straight\n",
    "    \"\"\"\n",
    "    slope = (y[9] - y[12])/(x[9]-x[12])\n",
    "    if -max_slope <= slope <= max_slope:\n",
    "        return slope, 0\n",
    "    else:\n",
    "        return slope, 1\n",
    "    "
   ]
  },
  {
   "cell_type": "code",
   "execution_count": 95,
   "metadata": {},
   "outputs": [
    {
     "data": {
      "text/plain": [
       "(-0.028522241512626875, 0)"
      ]
     },
     "execution_count": 95,
     "metadata": {},
     "output_type": "execute_result"
    }
   ],
   "source": [
    "hips_square(x_warrior_correct, y_warrior_correct)"
   ]
  },
  {
   "cell_type": "code",
   "execution_count": 97,
   "metadata": {},
   "outputs": [
    {
     "data": {
      "text/plain": [
       "(0.08990672678979562, 0)"
      ]
     },
     "execution_count": 97,
     "metadata": {},
     "output_type": "execute_result"
    }
   ],
   "source": [
    "hips_square(x_warrior_incorrect, y_warrior_incorrect)  # hips are square in the incorrect one"
   ]
  },
  {
   "cell_type": "code",
   "execution_count": 99,
   "metadata": {},
   "outputs": [],
   "source": [
    "def shoulders_up(x, y, max_slope=0.2):\n",
    "    \"\"\"\n",
    "    1:\"Neck\",\n",
    "    2:\"RShoulder\",\n",
    "    5:\"LShoulder\".\n",
    "    looks at line from left shoulder to neck, and line from right shoulder to neck\n",
    "    if either are not straight returns 1\n",
    "    if both are flat (slope of 0 or close to 0) returns 1\n",
    "    \"\"\"\n",
    "    left_slope = (y[1] - y[5])/(x[1]-x[5])\n",
    "    right_slope = (y[1] - y[2])/(x[1]-x[2])\n",
    "    if abs(left_slope) >= max_slope or abs(right_slope) >= max_slope:\n",
    "        return left_slope, right_slope, 1\n",
    "    else:\n",
    "        return left_slope, right_slope, 0\n"
   ]
  },
  {
   "cell_type": "code",
   "execution_count": 108,
   "metadata": {},
   "outputs": [
    {
     "data": {
      "text/plain": [
       "[[693.989, 646.996], 737.126]"
      ]
     },
     "execution_count": 108,
     "metadata": {},
     "output_type": "execute_result"
    }
   ],
   "source": [
    "[x_warrior_correct[1:3] x_warrior_correct[5]]"
   ]
  },
  {
   "cell_type": "code",
   "execution_count": 110,
   "metadata": {},
   "outputs": [
    {
     "data": {
      "text/plain": [
       "<matplotlib.collections.PathCollection at 0x117e36860>"
      ]
     },
     "execution_count": 110,
     "metadata": {},
     "output_type": "execute_result"
    },
    {
     "data": {
      "image/png": "[encoded data removed]",
      "text/plain": [
       "<Figure size 432x288 with 1 Axes>"
      ]
     },
     "metadata": {
      "needs_background": "light"
     },
     "output_type": "display_data"
    }
   ],
   "source": [
    "scatter(x_warrior_correct, y_warrior_correct)\n",
    "scatter(x_warrior_correct[1:3]+ [x_warrior_correct[5]], y_warrior_correct[1:3]+[y_warrior_correct[5]], color='red')"
   ]
  },
  {
   "cell_type": "code",
   "execution_count": 100,
   "metadata": {},
   "outputs": [
    {
     "data": {
      "text/plain": [
       "(-0.00025500150682764483, 0.0014470240248544157, 0)"
      ]
     },
     "execution_count": 100,
     "metadata": {},
     "output_type": "execute_result"
    }
   ],
   "source": [
    "shoulders_up(x_warrior_correct, y_warrior_correct)"
   ]
  },
  {
   "cell_type": "code",
   "execution_count": 102,
   "metadata": {},
   "outputs": [
    {
     "data": {
      "text/plain": [
       "(-0.0002781834619931954, 0.04043155363564794, 0)"
      ]
     },
     "execution_count": 102,
     "metadata": {},
     "output_type": "execute_result"
    }
   ],
   "source": [
    "shoulders_up(x_warrior_correct, y_warrior_incorrect) # shoulders are not up"
   ]
  },
  {
   "cell_type": "code",
   "execution_count": 114,
   "metadata": {},
   "outputs": [
    {
     "data": {
      "text/plain": [
       "<matplotlib.collections.PathCollection at 0x11870fe48>"
      ]
     },
     "execution_count": 114,
     "metadata": {},
     "output_type": "execute_result"
    },
    {
     "data": {
      "image/png": "[encoded data removed]",
      "text/plain": [
       "<Figure size 432x288 with 1 Axes>"
      ]
     },
     "metadata": {
      "needs_background": "light"
     },
     "output_type": "display_data"
    }
   ],
   "source": [
    "scatter(x_warrior_correct, y_warrior_correct)\n",
    "scatter(x_warrior_correct[15:17], y_warrior_correct[15:17], color='red')\n",
    "scatter(x_warrior_correct[0], y_warrior_correct[0], color='green')"
   ]
  },
  {
   "cell_type": "code",
   "execution_count": 123,
   "metadata": {},
   "outputs": [],
   "source": [
    "def head_front(x, y, max_ratio_diff=0.2):\n",
    "    \"\"\"\n",
    "    0:\"Nose\"\n",
    "    15:\"REye\"\n",
    "    16:\"LEye\"\n",
    "    17:\"REar\"\n",
    "    18:\"LEar\"\n",
    "    Compares distance from left eye to right eye\n",
    "    If looking forward eye to eye distance will be larger and closer to ear to ear distance\n",
    "    If looking if head is front they will be small, and much smaller than ear to ear distance\n",
    "    Divide by length from ear to ear to normalize and account for different distance\n",
    "    label 0 - head is front\n",
    "    label 1 - head is not facing the front (facing the side)\n",
    "    \"\"\"\n",
    "    ear_dist = np.sqrt((x[17]-x[18])**2+(y[17]-y[18])**2)\n",
    "    eye_dist = np.sqrt((x[15]-x[16])**2+(y[15]-y[16])**2)\n",
    "    ratio = eye_dist/ear_dist\n",
    "    if ratio > max_ratio_diff:\n",
    "        return ratio, 1\n",
    "    else:\n",
    "        return ratio, 0"
   ]
  },
  {
   "cell_type": "code",
   "execution_count": 124,
   "metadata": {},
   "outputs": [
    {
     "data": {
      "text/plain": [
       "(0.018574595917432005, 0)"
      ]
     },
     "execution_count": 124,
     "metadata": {},
     "output_type": "execute_result"
    }
   ],
   "source": [
    "head_front(x_warrior_correct, y_warrior_correct)"
   ]
  },
  {
   "cell_type": "code",
   "execution_count": 125,
   "metadata": {},
   "outputs": [
    {
     "data": {
      "text/plain": [
       "(0.3585888240527634, 1)"
      ]
     },
     "execution_count": 125,
     "metadata": {},
     "output_type": "execute_result"
    }
   ],
   "source": [
    "head_front(x_warrior_incorrect, y_warrior_incorrect)"
   ]
  },
  {
   "cell_type": "code",
   "execution_count": 135,
   "metadata": {},
   "outputs": [],
   "source": [
    "def front_knee_obtuse(x, y, max_angle=95, side='right'):\n",
    "    \"\"\"\n",
    "    10:\"RKnee\",\n",
    "    11:\"RAnkle\",\n",
    "    13:\"LKnee\",\n",
    "    14:\"LAnkle\"\n",
    "    \"\"\"\n",
    "    if side =='right':\n",
    "        degrees = math.degrees(math.atan2(y[11]-y[10], x[11]-x[10]))\n",
    "    else:\n",
    "        degrees = math.degrees(math.atan2(y[14]-y[13], x[14]-x[13]))\n",
    "    if degrees > max_angle:\n",
    "        return degrees, 1\n",
    "    else:\n",
    "        return degrees, 0 \n",
    "        "
   ]
  },
  {
   "cell_type": "code",
   "execution_count": 127,
   "metadata": {},
   "outputs": [
    {
     "data": {
      "text/plain": [
       "<matplotlib.collections.PathCollection at 0x1188f49b0>"
      ]
     },
     "execution_count": 127,
     "metadata": {},
     "output_type": "execute_result"
    },
    {
     "data": {
      "image/png": "[encoded data removed]",
      "text/plain": [
       "<Figure size 432x288 with 1 Axes>"
      ]
     },
     "metadata": {
      "needs_background": "light"
     },
     "output_type": "display_data"
    }
   ],
   "source": [
    "scatter(x_warrior_correct, y_warrior_correct)\n",
    "scatter(x_warrior_correct[10:12], y_warrior_correct[10:12], color='red')"
   ]
  },
  {
   "cell_type": "code",
   "execution_count": 130,
   "metadata": {},
   "outputs": [
    {
     "data": {
      "text/plain": [
       "90.87426388740911"
      ]
     },
     "execution_count": 130,
     "metadata": {},
     "output_type": "execute_result"
    }
   ],
   "source": [
    "math.degrees(math.atan2(y_warrior_correct[11]-y_warrior_correct[10], x_warrior_correct[11]-x_warrior_correct[10]))\n"
   ]
  },
  {
   "cell_type": "code",
   "execution_count": 131,
   "metadata": {},
   "outputs": [
    {
     "data": {
      "text/plain": [
       "45.64220539390535"
      ]
     },
     "execution_count": 131,
     "metadata": {},
     "output_type": "execute_result"
    }
   ],
   "source": [
    "math.degrees(math.atan2(y_warrior_correct[14]-y_warrior_correct[13], x_warrior_correct[14]-x_warrior_correct[13]))\n"
   ]
  },
  {
   "cell_type": "code",
   "execution_count": 136,
   "metadata": {},
   "outputs": [
    {
     "data": {
      "text/plain": [
       "(90.87426388740911, 0)"
      ]
     },
     "execution_count": 136,
     "metadata": {},
     "output_type": "execute_result"
    }
   ],
   "source": [
    "front_knee_obtuse(x_warrior_correct, y_warrior_correct, side='right')"
   ]
  },
  {
   "cell_type": "code",
   "execution_count": 132,
   "metadata": {},
   "outputs": [
    {
     "data": {
      "text/plain": [
       "<matplotlib.collections.PathCollection at 0x1185507b8>"
      ]
     },
     "execution_count": 132,
     "metadata": {},
     "output_type": "execute_result"
    },
    {
     "data": {
      "image/png": "[encoded data removed]",
      "text/plain": [
       "<Figure size 432x288 with 1 Axes>"
      ]
     },
     "metadata": {
      "needs_background": "light"
     },
     "output_type": "display_data"
    }
   ],
   "source": [
    "scatter(x_warrior_incorrect, y_warrior_incorrect)\n",
    "scatter(x_warrior_incorrect[10:12], y_warrior_incorrect[10:12], color='red')"
   ]
  },
  {
   "cell_type": "code",
   "execution_count": 133,
   "metadata": {},
   "outputs": [
    {
     "data": {
      "text/plain": [
       "108.95074880686288"
      ]
     },
     "execution_count": 133,
     "metadata": {},
     "output_type": "execute_result"
    }
   ],
   "source": [
    "math.degrees(math.atan2(y_warrior_incorrect[11]-y_warrior_incorrect[10], x_warrior_incorrect[11]-x_warrior_incorrect[10]))\n"
   ]
  },
  {
   "cell_type": "code",
   "execution_count": 134,
   "metadata": {},
   "outputs": [
    {
     "data": {
      "text/plain": [
       "57.41034408912557"
      ]
     },
     "execution_count": 134,
     "metadata": {},
     "output_type": "execute_result"
    }
   ],
   "source": [
    "math.degrees(math.atan2(y_warrior_incorrect[14]-y_warrior_incorrect[13], x_warrior_incorrect[14]-x_warrior_incorrect[13]))\n"
   ]
  },
  {
   "cell_type": "code",
   "execution_count": 137,
   "metadata": {},
   "outputs": [
    {
     "data": {
      "text/plain": [
       "(108.95074880686288, 1)"
      ]
     },
     "execution_count": 137,
     "metadata": {},
     "output_type": "execute_result"
    }
   ],
   "source": [
    "front_knee_obtuse(x_warrior_incorrect, y_warrior_incorrect, side='right')"
   ]
  },
  {
   "cell_type": "code",
   "execution_count": 140,
   "metadata": {},
   "outputs": [],
   "source": [
    "def front_knee_acute(x, y, min_angle=85, side='right'):\n",
    "    \"\"\"\n",
    "    10:\"RKnee\",\n",
    "    11:\"RAnkle\",\n",
    "    13:\"LKnee\",\n",
    "    14:\"LAnkle\"\n",
    "    \"\"\"\n",
    "    if side =='right':\n",
    "        degrees = math.degrees(math.atan2(y[11]-y[10], x[11]-x[10]))\n",
    "    else:\n",
    "        degrees = math.degrees(math.atan2(y[14]-y[13], x[14]-x[13]))\n",
    "    if degrees < min_angle:\n",
    "        return degrees, 1\n",
    "    else:\n",
    "        return degrees, 0 "
   ]
  },
  {
   "cell_type": "code",
   "execution_count": 141,
   "metadata": {},
   "outputs": [
    {
     "data": {
      "text/plain": [
       "(90.87426388740911, 0)"
      ]
     },
     "execution_count": 141,
     "metadata": {},
     "output_type": "execute_result"
    }
   ],
   "source": [
    "front_knee_acute(x_warrior_correct, y_warrior_correct, side='right')"
   ]
  },
  {
   "cell_type": "code",
   "execution_count": 143,
   "metadata": {},
   "outputs": [
    {
     "data": {
      "text/plain": [
       "(45.64220539390535, 1)"
      ]
     },
     "execution_count": 143,
     "metadata": {},
     "output_type": "execute_result"
    }
   ],
   "source": [
    "front_knee_acute(x_warrior_correct, y_warrior_correct, side='left')"
   ]
  },
  {
   "cell_type": "code",
   "execution_count": 142,
   "metadata": {},
   "outputs": [
    {
     "data": {
      "text/plain": [
       "(108.95074880686288, 0)"
      ]
     },
     "execution_count": 142,
     "metadata": {},
     "output_type": "execute_result"
    }
   ],
   "source": [
    "front_knee_acute(x_warrior_incorrect, y_warrior_incorrect, side='right')"
   ]
  },
  {
   "cell_type": "code",
   "execution_count": 144,
   "metadata": {},
   "outputs": [
    {
     "data": {
      "text/plain": [
       "(57.41034408912557, 1)"
      ]
     },
     "execution_count": 144,
     "metadata": {},
     "output_type": "execute_result"
    }
   ],
   "source": [
    "front_knee_acute(x_warrior_incorrect, y_warrior_incorrect, side='left')"
   ]
  },
  {
   "cell_type": "code",
   "execution_count": 151,
   "metadata": {},
   "outputs": [],
   "source": [
    "def step_wider(x, y, min_ratio=0.5):\n",
    "    \"\"\"\n",
    "    4:\"RWrist\",\n",
    "    7:\"LWrist\",\n",
    "    11:\"RAnkle\",\n",
    "    14:\"LAnkle\".\n",
    "    compares arm span to distance between feet\n",
    "    if feet are wide enough, the distance between feet will be similar \n",
    "    to the distance between arms\n",
    "    label - 0 feet are wide enough\n",
    "    label - 1 feet are too narrow\n",
    "    \"\"\"\n",
    "    arm_distance = np.sqrt((x[7]-x[4])**2+(y[7]-y[4])**2)\n",
    "    feet_disatance = np.sqrt((x[11]-x[14])**2+(y[11]-y[14])**2)\n",
    "    ratio = feet_disatance/arm_distance\n",
    "    if ratio < min_ratio:\n",
    "        return ratio, 1\n",
    "    else:\n",
    "        return ratio, 0\n",
    "    "
   ]
  },
  {
   "cell_type": "code",
   "execution_count": 152,
   "metadata": {},
   "outputs": [
    {
     "data": {
      "text/plain": [
       "<matplotlib.collections.PathCollection at 0x118b87b70>"
      ]
     },
     "execution_count": 152,
     "metadata": {},
     "output_type": "execute_result"
    },
    {
     "data": {
      "image/png": "[encoded data removed]",
      "text/plain": [
       "<Figure size 432x288 with 1 Axes>"
      ]
     },
     "metadata": {
      "needs_background": "light"
     },
     "output_type": "display_data"
    }
   ],
   "source": [
    "scatter(x_warrior_incorrect, y_warrior_incorrect)\n",
    "scatter([x_warrior_incorrect[4], x_warrior_incorrect[7], x_warrior_incorrect[11], x_warrior_incorrect[14]],\n",
    "        [y_warrior_incorrect[4], y_warrior_incorrect[7], y_warrior_incorrect[11], y_warrior_incorrect[14]], \n",
    "        color='red')"
   ]
  },
  {
   "cell_type": "code",
   "execution_count": 154,
   "metadata": {},
   "outputs": [
    {
     "data": {
      "text/plain": [
       "(0.779420136821977, 0)"
      ]
     },
     "execution_count": 154,
     "metadata": {},
     "output_type": "execute_result"
    }
   ],
   "source": [
    "step_wider(x_warrior_incorrect, y_warrior_incorrect)"
   ]
  },
  {
   "cell_type": "code",
   "execution_count": 149,
   "metadata": {},
   "outputs": [
    {
     "data": {
      "text/plain": [
       "<matplotlib.collections.PathCollection at 0x118c10eb8>"
      ]
     },
     "execution_count": 149,
     "metadata": {},
     "output_type": "execute_result"
    },
    {
     "data": {
      "image/png": "[encoded data removed]",
      "text/plain": [
       "<Figure size 432x288 with 1 Axes>"
      ]
     },
     "metadata": {
      "needs_background": "light"
     },
     "output_type": "display_data"
    }
   ],
   "source": [
    "scatter(x_warrior_correct, y_warrior_correct)\n",
    "scatter([x_warrior_correct[4], x_warrior_correct[7], x_warrior_correct[11], x_warrior_correct[14]],\n",
    "        [y_warrior_correct[4], y_warrior_correct[7], y_warrior_correct[11], y_warrior_correct[14]], \n",
    "        color='red')\n"
   ]
  },
  {
   "cell_type": "code",
   "execution_count": 155,
   "metadata": {},
   "outputs": [
    {
     "data": {
      "text/plain": [
       "(0.7775950950835203, 0)"
      ]
     },
     "execution_count": 155,
     "metadata": {},
     "output_type": "execute_result"
    }
   ],
   "source": [
    "step_wider(x_warrior_correct, y_warrior_correct)"
   ]
  },
  {
   "cell_type": "markdown",
   "metadata": {},
   "source": [
    "## Combined"
   ]
  },
  {
   "cell_type": "code",
   "execution_count": 188,
   "metadata": {},
   "outputs": [],
   "source": [
    "def warrior2_labels(json_path, side='right'):\n",
    "    \"\"\"\n",
    "    for a single json file\n",
    "    Returns a list of labels and list of values\n",
    "    order: head_front, sholders, arms, torso forward, torso backward hips, knee acute, knee obtuse, step wider\n",
    "    1 - needs to be adjusted\n",
    "    0 - good\n",
    "    \"\"\"\n",
    "    with open(json_path) as f:\n",
    "        data = json.load(f)\n",
    "    x, y = x_y_points(data)\n",
    "    labels = []\n",
    "    values = []\n",
    "    ratio, label = head_front(x, y)\n",
    "    labels.append(label)\n",
    "    values.append(ratio)\n",
    "    left_slope, right_slope, label = shoulders_up(x, y)\n",
    "    labels.append(label)\n",
    "    values.append((left_slope, right_slope))\n",
    "    slope, label = straight_arms(x, y)\n",
    "    labels.append(label)\n",
    "    values.append(slope)\n",
    "    slope, label = torso_forward(x, y)\n",
    "    labels.append(label)\n",
    "    values.append(slope)\n",
    "    slope, label = torso_backward(x, y)\n",
    "    labels.append(label)\n",
    "    values.append(slope)\n",
    "    slope, label = hips_square(x, y)\n",
    "    labels.append(label)\n",
    "    values.append(slope)\n",
    "    if side == 'right':\n",
    "        acute_angle, acute_label = front_knee_acute(x, y, side='right')\n",
    "        obtuse_angle, obtuse_label = front_knee_obtuse(x, y, side='right')\n",
    "    else: \n",
    "        acute_angle, acute_label = front_knee_acute(x, y, side='left')\n",
    "        obtuse_angle, obtuse_label = front_knee_obtuse(x, y, side='left')\n",
    "    labels.append(acute_label)\n",
    "    values.append(acute_angle)\n",
    "    labels.append(obtuse_label)\n",
    "    values.append(obtuse_angle)\n",
    "    distance, label = step_wider(x, y)\n",
    "    labels.append(label)\n",
    "    values.append(distance)\n",
    "    return labels, values"
   ]
  },
  {
   "cell_type": "code",
   "execution_count": 189,
   "metadata": {},
   "outputs": [
    {
     "data": {
      "text/plain": [
       "([0, 0, 0, 0, 0, 0, 0, 0, 0],\n",
       " [0.018574595917432005,\n",
       "  (-0.00025500150682764483, 0.0014470240248544157),\n",
       "  0.10680063930221897,\n",
       "  0.10114625962489565,\n",
       "  0.10114625962489565,\n",
       "  -0.028522241512626875,\n",
       "  90.87426388740911,\n",
       "  90.87426388740911,\n",
       "  0.7775950950835203])"
      ]
     },
     "execution_count": 189,
     "metadata": {},
     "output_type": "execute_result"
    }
   ],
   "source": [
    "file_correct = 'warrior/warrior_000000000039_keypoints.json'  \n",
    "warrior2_labels(file_correct)"
   ]
  },
  {
   "cell_type": "code",
   "execution_count": 190,
   "metadata": {},
   "outputs": [
    {
     "name": "stdout",
     "output_type": "stream",
     "text": [
      "[1, 0, 0, 0, 0, 0, 0, 1, 0]\n",
      "[0.3585888240527634, (-0.0002557163253564142, 0.040381713459862786), 0.12495087104990481, -0.00017901185456310273, -0.00017901185456310273, 0.08990672678979562, 108.95074880686288, 108.95074880686288, 0.779420136821977]\n"
     ]
    }
   ],
   "source": [
    "file_incorrect = 'warrior_incorrect/warrior_incorrect_000000000033_keypoints 8.28.45 PM.json'\n",
    "\n",
    "incorrect_labels, incorrect_values = warrior2_labels(file_incorrect)\n",
    "print(incorrect_labels)\n",
    "print(incorrect_values)"
   ]
  },
  {
   "cell_type": "code",
   "execution_count": 196,
   "metadata": {},
   "outputs": [],
   "source": [
    "def warroir2_label_json_folder(path_to_json, side='right'):\n",
    "    \"\"\"\n",
    "    assumes directory has only the json files for still moment of one pose\n",
    "    takes averages of all json \n",
    "    order: head_front, sholders, arms, torso forward, torso backward hips, knee acute, knee obtuse, step wider\n",
    "    1 - needs to be adjusted\n",
    "    0 - good\n",
    "    \"\"\"\n",
    "    PATH = Path(path_to_json)\n",
    "    files = list(PATH.iterdir())\n",
    "    warrior = []\n",
    "    for js in files:\n",
    "        try:\n",
    "            data = json.load(open(js,\"r\"))\n",
    "            keypoints = data['people'][0]['pose_keypoints_2d']\n",
    "            warrior.append(keypoints)\n",
    "        except:\n",
    "            continue\n",
    "    warrior = np.array(warrior)\n",
    "    warrior_means = np.mean(warrior, axis=1)  # average for each point accros all jsons\n",
    "    x, y = x_y_points(data)\n",
    "    labels = []\n",
    "    values = []\n",
    "    ratio, label = head_front(x, y)\n",
    "    labels.append(label)\n",
    "    values.append(ratio)\n",
    "    left_slope, right_slope, label = shoulders_up(x, y)\n",
    "    labels.append(label)\n",
    "    values.append((left_slope, right_slope))\n",
    "    slope, label = straight_arms(x, y)\n",
    "    labels.append(label)\n",
    "    values.append(slope)\n",
    "    slope, label = torso_forward(x, y)\n",
    "    labels.append(label)\n",
    "    values.append(slope)\n",
    "    slope, label = torso_backward(x, y)\n",
    "    labels.append(label)\n",
    "    values.append(slope)\n",
    "    slope, label = hips_square(x, y)\n",
    "    labels.append(label)\n",
    "    values.append(slope)\n",
    "    if side == 'right':\n",
    "        acute_angle, acute_label = front_knee_acute(x, y, side='right')\n",
    "        obtuse_angle, obtuse_label = front_knee_obtuse(x, y, side='right')\n",
    "    else: \n",
    "        acute_angle, acute_label = front_knee_acute(x, y, side='left')\n",
    "        obtuse_angle, obtuse_label = front_knee_obtuse(x, y, side='left')\n",
    "    labels.append(acute_label)\n",
    "    values.append(acute_angle)\n",
    "    labels.append(obtuse_label)\n",
    "    values.append(obtuse_angle)\n",
    "    distance, label = step_wider(x, y)\n",
    "    labels.append(label)\n",
    "    values.append(distance)\n",
    "    return labels, values"
   ]
  },
  {
   "cell_type": "code",
   "execution_count": 197,
   "metadata": {},
   "outputs": [],
   "source": [
    "test = [[4, 5, 7], [1,2, 4], [2, 5, 6]]"
   ]
  },
  {
   "cell_type": "code",
   "execution_count": 198,
   "metadata": {},
   "outputs": [
    {
     "data": {
      "text/plain": [
       "array([[4, 5, 7],\n",
       "       [1, 2, 4],\n",
       "       [2, 5, 6]])"
      ]
     },
     "execution_count": 198,
     "metadata": {},
     "output_type": "execute_result"
    }
   ],
   "source": [
    "test = np.array(test)\n",
    "test"
   ]
  },
  {
   "cell_type": "code",
   "execution_count": 199,
   "metadata": {},
   "outputs": [
    {
     "data": {
      "text/plain": [
       "array([5.33333333, 2.33333333, 4.33333333])"
      ]
     },
     "execution_count": 199,
     "metadata": {},
     "output_type": "execute_result"
    }
   ],
   "source": [
    "np.mean(test, axis=1)"
   ]
  },
  {
   "cell_type": "code",
   "execution_count": 200,
   "metadata": {},
   "outputs": [
    {
     "data": {
      "text/plain": [
       "([0, 0, 0, 0, 0, 0, 0, 0, 0],\n",
       " [0.01855451735602316,\n",
       "  (0.0005574676426382203, 0.04102182011708398),\n",
       "  0.12009748255138882,\n",
       "  0.03941022100351464,\n",
       "  0.03941022100351464,\n",
       "  -0.028191015664920233,\n",
       "  89.19774718664036,\n",
       "  89.19774718664036,\n",
       "  0.7948311171346703])"
      ]
     },
     "execution_count": 200,
     "metadata": {},
     "output_type": "execute_result"
    }
   ],
   "source": [
    "path_to_json = 'warrior/'\n",
    "\n",
    "warroir2_label_json_folder(path_to_json)"
   ]
  },
  {
   "cell_type": "code",
   "execution_count": null,
   "metadata": {},
   "outputs": [],
   "source": []
  },
  {
   "cell_type": "code",
   "execution_count": null,
   "metadata": {},
   "outputs": [],
   "source": []
  }
 ],
 "metadata": {
  "kernelspec": {
   "display_name": "Python 3",
   "language": "python",
   "name": "python3"
  },
  "language_info": {
   "codemirror_mode": {
    "name": "ipython",
    "version": 3
   },
   "file_extension": ".py",
   "mimetype": "text/x-python",
   "name": "python",
   "nbconvert_exporter": "python",
   "pygments_lexer": "ipython3",
   "version": "3.7.1"
  }
 },
 "nbformat": 4,
 "nbformat_minor": 2
}
