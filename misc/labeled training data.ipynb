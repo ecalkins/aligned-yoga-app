{
 "cells": [
  {
   "cell_type": "code",
   "execution_count": 24,
   "metadata": {},
   "outputs": [],
   "source": [
    "import pandas as pd\n",
    "import numpy as np"
   ]
  },
  {
   "cell_type": "code",
   "execution_count": 140,
   "metadata": {},
   "outputs": [],
   "source": [
    "df = pd.read_csv('labels - data.csv')"
   ]
  },
  {
   "cell_type": "code",
   "execution_count": 142,
   "metadata": {},
   "outputs": [
    {
     "data": {
      "text/html": [
       "<div>\n",
       "<style scoped>\n",
       "    .dataframe tbody tr th:only-of-type {\n",
       "        vertical-align: middle;\n",
       "    }\n",
       "\n",
       "    .dataframe tbody tr th {\n",
       "        vertical-align: top;\n",
       "    }\n",
       "\n",
       "    .dataframe thead th {\n",
       "        text-align: right;\n",
       "    }\n",
       "</style>\n",
       "<table border=\"1\" class=\"dataframe\">\n",
       "  <thead>\n",
       "    <tr style=\"text-align: right;\">\n",
       "      <th></th>\n",
       "      <th>video_name (Naming: warrior2_0000000000_katja1.avi)</th>\n",
       "      <th>labels</th>\n",
       "      <th>Processed?</th>\n",
       "    </tr>\n",
       "  </thead>\n",
       "  <tbody>\n",
       "    <tr>\n",
       "      <th>26</th>\n",
       "      <td>warrior2_correct_1.avi</td>\n",
       "      <td>NaN</td>\n",
       "      <td>yes</td>\n",
       "    </tr>\n",
       "    <tr>\n",
       "      <th>27</th>\n",
       "      <td>warrior2_correct_2.avi</td>\n",
       "      <td>head_sideways</td>\n",
       "      <td>yes</td>\n",
       "    </tr>\n",
       "    <tr>\n",
       "      <th>28</th>\n",
       "      <td>warrior2_correct_3.avi</td>\n",
       "      <td>NaN</td>\n",
       "      <td>yes</td>\n",
       "    </tr>\n",
       "    <tr>\n",
       "      <th>29</th>\n",
       "      <td>warrior2_correct_4.avi</td>\n",
       "      <td>NaN</td>\n",
       "      <td>yes</td>\n",
       "    </tr>\n",
       "    <tr>\n",
       "      <th>30</th>\n",
       "      <td>warrior2_correct_5.avi</td>\n",
       "      <td>NaN</td>\n",
       "      <td>yes</td>\n",
       "    </tr>\n",
       "  </tbody>\n",
       "</table>\n",
       "</div>"
      ],
      "text/plain": [
       "   video_name (Naming: warrior2_0000000000_katja1.avi)         labels  \\\n",
       "26                             warrior2_correct_1.avi             NaN   \n",
       "27                             warrior2_correct_2.avi   head_sideways   \n",
       "28                             warrior2_correct_3.avi             NaN   \n",
       "29                             warrior2_correct_4.avi             NaN   \n",
       "30                             warrior2_correct_5.avi             NaN   \n",
       "\n",
       "   Processed?  \n",
       "26        yes  \n",
       "27        yes  \n",
       "28        yes  \n",
       "29        yes  \n",
       "30        yes  "
      ]
     },
     "execution_count": 142,
     "metadata": {},
     "output_type": "execute_result"
    }
   ],
   "source": [
    "df.tail()"
   ]
  },
  {
   "cell_type": "code",
   "execution_count": 143,
   "metadata": {},
   "outputs": [
    {
     "data": {
      "text/html": [
       "<div>\n",
       "<style scoped>\n",
       "    .dataframe tbody tr th:only-of-type {\n",
       "        vertical-align: middle;\n",
       "    }\n",
       "\n",
       "    .dataframe tbody tr th {\n",
       "        vertical-align: top;\n",
       "    }\n",
       "\n",
       "    .dataframe thead th {\n",
       "        text-align: right;\n",
       "    }\n",
       "</style>\n",
       "<table border=\"1\" class=\"dataframe\">\n",
       "  <thead>\n",
       "    <tr style=\"text-align: right;\">\n",
       "      <th></th>\n",
       "      <th>video_name (Naming: warrior2_0000000000_katja1.avi)</th>\n",
       "      <th>labels</th>\n",
       "    </tr>\n",
       "  </thead>\n",
       "  <tbody>\n",
       "    <tr>\n",
       "      <th>0</th>\n",
       "      <td>warrior2_knee1_1.avi</td>\n",
       "      <td>front_knee_acute</td>\n",
       "    </tr>\n",
       "    <tr>\n",
       "      <th>1</th>\n",
       "      <td>warrior2_knee1_2.avi</td>\n",
       "      <td>front_knee_acute</td>\n",
       "    </tr>\n",
       "    <tr>\n",
       "      <th>2</th>\n",
       "      <td>warrior2_knee1_3.avi</td>\n",
       "      <td>front_knee_acute torso_forward</td>\n",
       "    </tr>\n",
       "    <tr>\n",
       "      <th>3</th>\n",
       "      <td>warrior2_knee1_4.avi</td>\n",
       "      <td>front_knee_acute head_sideways</td>\n",
       "    </tr>\n",
       "    <tr>\n",
       "      <th>4</th>\n",
       "      <td>warrior2_knee1_5.avi</td>\n",
       "      <td>front_knee_acute torso_forward</td>\n",
       "    </tr>\n",
       "  </tbody>\n",
       "</table>\n",
       "</div>"
      ],
      "text/plain": [
       "  video_name (Naming: warrior2_0000000000_katja1.avi)  \\\n",
       "0                               warrior2_knee1_1.avi    \n",
       "1                               warrior2_knee1_2.avi    \n",
       "2                               warrior2_knee1_3.avi    \n",
       "3                               warrior2_knee1_4.avi    \n",
       "4                               warrior2_knee1_5.avi    \n",
       "\n",
       "                           labels  \n",
       "0                front_knee_acute  \n",
       "1                front_knee_acute  \n",
       "2  front_knee_acute torso_forward  \n",
       "3  front_knee_acute head_sideways  \n",
       "4  front_knee_acute torso_forward  "
      ]
     },
     "execution_count": 143,
     "metadata": {},
     "output_type": "execute_result"
    }
   ],
   "source": [
    "df = df.iloc[:, :-1]\n",
    "df.head()"
   ]
  },
  {
   "cell_type": "code",
   "execution_count": 144,
   "metadata": {},
   "outputs": [],
   "source": [
    "tags_dict = {'arms':0, \n",
    "        'front_knee_obtuse': 1,\n",
    "        'front_knee_acute':2, \n",
    "        'head_sideways': 3,\n",
    "        'hips_angled':4,\n",
    "        'narrow_step':5,\n",
    "        'shoulders_up':6,\n",
    "        'torso_forward':7,\n",
    "        'torso_backward':8,\n",
    "            'wide_step':9}"
   ]
  },
  {
   "cell_type": "code",
   "execution_count": 145,
   "metadata": {},
   "outputs": [],
   "source": [
    "def string_to_tensor(y, tags_dict):\n",
    "    \"\"\"This function creates tensors as np arrays\n",
    "    y - is tags column of the datafram and path is path to dict\"\"\"\n",
    "\n",
    "    try:\n",
    "        tags = y.split(' ')\n",
    "    except:\n",
    "        return np.zeros(10)   \n",
    "\n",
    "    tags_tensor = np.zeros(10)\n",
    "\n",
    "    for label in tags:\n",
    "        if label in tags_dict.keys():\n",
    "            tags_tensor[tags_dict[label]] = 1\n",
    "    \n",
    "    return tags_tensor"
   ]
  },
  {
   "cell_type": "code",
   "execution_count": 146,
   "metadata": {},
   "outputs": [],
   "source": [
    "df[\"y_true\"] = df[\"labels\"].apply(lambda x: string_to_tensor(x, tags_dict))"
   ]
  },
  {
   "cell_type": "code",
   "execution_count": 147,
   "metadata": {},
   "outputs": [
    {
     "data": {
      "text/html": [
       "<div>\n",
       "<style scoped>\n",
       "    .dataframe tbody tr th:only-of-type {\n",
       "        vertical-align: middle;\n",
       "    }\n",
       "\n",
       "    .dataframe tbody tr th {\n",
       "        vertical-align: top;\n",
       "    }\n",
       "\n",
       "    .dataframe thead th {\n",
       "        text-align: right;\n",
       "    }\n",
       "</style>\n",
       "<table border=\"1\" class=\"dataframe\">\n",
       "  <thead>\n",
       "    <tr style=\"text-align: right;\">\n",
       "      <th></th>\n",
       "      <th>video_name (Naming: warrior2_0000000000_katja1.avi)</th>\n",
       "      <th>labels</th>\n",
       "      <th>y_true</th>\n",
       "    </tr>\n",
       "  </thead>\n",
       "  <tbody>\n",
       "    <tr>\n",
       "      <th>0</th>\n",
       "      <td>warrior2_knee1_1.avi</td>\n",
       "      <td>front_knee_acute</td>\n",
       "      <td>[0.0, 0.0, 1.0, 0.0, 0.0, 0.0, 0.0, 0.0, 0.0, ...</td>\n",
       "    </tr>\n",
       "    <tr>\n",
       "      <th>1</th>\n",
       "      <td>warrior2_knee1_2.avi</td>\n",
       "      <td>front_knee_acute</td>\n",
       "      <td>[0.0, 0.0, 1.0, 0.0, 0.0, 0.0, 0.0, 0.0, 0.0, ...</td>\n",
       "    </tr>\n",
       "    <tr>\n",
       "      <th>2</th>\n",
       "      <td>warrior2_knee1_3.avi</td>\n",
       "      <td>front_knee_acute torso_forward</td>\n",
       "      <td>[0.0, 0.0, 1.0, 0.0, 0.0, 0.0, 0.0, 1.0, 0.0, ...</td>\n",
       "    </tr>\n",
       "    <tr>\n",
       "      <th>3</th>\n",
       "      <td>warrior2_knee1_4.avi</td>\n",
       "      <td>front_knee_acute head_sideways</td>\n",
       "      <td>[0.0, 0.0, 1.0, 1.0, 0.0, 0.0, 0.0, 0.0, 0.0, ...</td>\n",
       "    </tr>\n",
       "    <tr>\n",
       "      <th>4</th>\n",
       "      <td>warrior2_knee1_5.avi</td>\n",
       "      <td>front_knee_acute torso_forward</td>\n",
       "      <td>[0.0, 0.0, 1.0, 0.0, 0.0, 0.0, 0.0, 1.0, 0.0, ...</td>\n",
       "    </tr>\n",
       "  </tbody>\n",
       "</table>\n",
       "</div>"
      ],
      "text/plain": [
       "  video_name (Naming: warrior2_0000000000_katja1.avi)  \\\n",
       "0                               warrior2_knee1_1.avi    \n",
       "1                               warrior2_knee1_2.avi    \n",
       "2                               warrior2_knee1_3.avi    \n",
       "3                               warrior2_knee1_4.avi    \n",
       "4                               warrior2_knee1_5.avi    \n",
       "\n",
       "                           labels  \\\n",
       "0                front_knee_acute   \n",
       "1                front_knee_acute   \n",
       "2  front_knee_acute torso_forward   \n",
       "3  front_knee_acute head_sideways   \n",
       "4  front_knee_acute torso_forward   \n",
       "\n",
       "                                              y_true  \n",
       "0  [0.0, 0.0, 1.0, 0.0, 0.0, 0.0, 0.0, 0.0, 0.0, ...  \n",
       "1  [0.0, 0.0, 1.0, 0.0, 0.0, 0.0, 0.0, 0.0, 0.0, ...  \n",
       "2  [0.0, 0.0, 1.0, 0.0, 0.0, 0.0, 0.0, 1.0, 0.0, ...  \n",
       "3  [0.0, 0.0, 1.0, 1.0, 0.0, 0.0, 0.0, 0.0, 0.0, ...  \n",
       "4  [0.0, 0.0, 1.0, 0.0, 0.0, 0.0, 0.0, 1.0, 0.0, ...  "
      ]
     },
     "execution_count": 147,
     "metadata": {},
     "output_type": "execute_result"
    }
   ],
   "source": [
    "df.head()"
   ]
  },
  {
   "cell_type": "code",
   "execution_count": null,
   "metadata": {},
   "outputs": [],
   "source": []
  }
 ],
 "metadata": {
  "kernelspec": {
   "display_name": "Python 3",
   "language": "python",
   "name": "python3"
  },
  "language_info": {
   "codemirror_mode": {
    "name": "ipython",
    "version": 3
   },
   "file_extension": ".py",
   "mimetype": "text/x-python",
   "name": "python",
   "nbconvert_exporter": "python",
   "pygments_lexer": "ipython3",
   "version": "3.7.0"
  }
 },
 "nbformat": 4,
 "nbformat_minor": 2
}
