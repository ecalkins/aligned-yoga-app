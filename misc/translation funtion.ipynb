{
 "cells": [
  {
   "cell_type": "code",
   "execution_count": 102,
   "metadata": {},
   "outputs": [],
   "source": [
    "import numpy as np\n",
    "#  print(\"\"\"\n",
    " # 1. arms\n",
    " # 2. front_knee_obtuse\n",
    " # 3. front_knee_acute\n",
    " # 4. head_sideways\n",
    " # 5. hips_angled\n",
    " # 6. narrow_step\n",
    " # 7. shoulders_up\n",
    " # 8. torso_forward\n",
    " # 9. torso_backward\n",
    " # 10. wide_step\n",
    " # \"\"\")\n",
    "\n",
    "#labels = [1, 1, 1, 1, 0, 0 ,0 , 0, 0]\n",
    "\n",
    "class ProsessPose:\n",
    "\n",
    "    @classmethod\n",
    "    def to_text(cls, labels:list):\n",
    "        trans_fd = {\n",
    "    0: 'straighten your arms, keep palms facing down',\n",
    "    1: 'make sure your front shin is perpendicular to the floor. So that your \\\n",
    "    knee and shin are forming a right angle between the right thigh and the \\\n",
    "     right calf',\n",
    "    2: 'make sure your knee is not extended beyond your ankle, but is in line \\\n",
    "     with the heel',\n",
    "    3: 'turn your head and look over your front fingers. Fix your gaze to \\\n",
    "    increase the focus',\n",
    "    4: 'square your hips and shoulders sideways towards the camera. Engage your\\\n",
    "     core! Tailbone down, belly in',\n",
    "    5: 'make a wider step, your feet are too close together' ,\n",
    "    6: 'drop your shoulders away from your ears and actively reach towards both\\\n",
    "     ends of the room',\n",
    "    7: \"stack your shoulders directly over your hips so that rib cage isn't\\\n",
    "     floating forward\",\n",
    "    8: \"stack your shoulders directly over your hips so that rib cage isn't\\\n",
    "     floating backward\",\n",
    "    9: 'make a shorter stance, seems like your feet are be too wide apart.\\\n",
    "     Back leg straight and strong'\n",
    "    }\n",
    "        if labels.count(1) == 0:\n",
    "            print(f'Excellent job! Keep it up, yogi! Wanna try different pose?')\n",
    "\n",
    "        if labels.count(1) == 1:\n",
    "            index = np.where(np.array(labels) == 1)[0]\n",
    "            output = trans_fd[index[0]]\n",
    "            print(f'Very very nice! One little thing: try to {output}!')\n",
    "\n",
    "        if labels.count(1) >= 2 and labels.count(1) < 7:\n",
    "            index = np.where(np.array(labels) == 1)[0] #list\n",
    "            print('Well done! Couple of things to keep in mind for you:')\n",
    "            for i in index: \n",
    "                print(f'- {trans_fd[i][0].capitalize() +trans_fd[i][1:]}.')\n",
    "\n",
    "        if labels.count(1) >= 7:\n",
    "            print(\"Are you sure you were following my instructions?\\\n",
    "             Let's try again!\")"
   ]
  },
  {
   "cell_type": "code",
   "execution_count": 103,
   "metadata": {},
   "outputs": [
    {
     "name": "stdout",
     "output_type": "stream",
     "text": [
      "Well done! Couple of things to keep in mind for you:\n",
      "- Straighten your arms, keep palms facing down.\n",
      "- Make sure your front shin is perpendicular to the floor. So that your     knee and shin are forming a right angle between the right thigh and the      right calf.\n",
      "- Make sure your knee is not extended beyond your ankle, but is in line      with the heel.\n",
      "- Turn your head and look over your front fingers. Fix your gaze to     increase the focus.\n"
     ]
    }
   ],
   "source": [
    "#test\n",
    "labels = [1, 1, 1, 1, 0, 0 ,0 , 0, 0]\n",
    "ProsessPose.to_text(labels)"
   ]
  },
  {
   "cell_type": "code",
   "execution_count": 1,
   "metadata": {},
   "outputs": [],
   "source": [
    "# # routes.py / background processing\n",
    "\n",
    "# def record_camera\n",
    "#   upload...\n",
    "#   pose = save_in_database...\n",
    "#   `python3 -d process_pose.py pose_id=pose.id`\n",
    "\n",
    "# def result(pose_id)\n",
    "#   row = select * from poses where user_id = current_user.id AND poses.id = pose_id \n",
    "#   result = row[\"result\"]\n",
    "\n",
    "#   if result:\n",
    "#     result = split(\",\")\n",
    "\n",
    "#     render(\"result\", result=PosesMatcher(result).to_text)\n",
    "\n",
    "\n",
    "# class ProcessPose\n",
    "\n",
    "#   ...\n",
    "\n",
    "#   def write_to_database:\n",
    "#     insert to pose_id "
   ]
  },
  {
   "cell_type": "code",
   "execution_count": 3,
   "metadata": {},
   "outputs": [],
   "source": [
    "output = 'Bla'\n",
    "s = f'Very very nice! One little thing: try to ' + output"
   ]
  },
  {
   "cell_type": "code",
   "execution_count": 4,
   "metadata": {},
   "outputs": [
    {
     "data": {
      "text/plain": [
       "'Very very nice! One little thing: try toBla'"
      ]
     },
     "execution_count": 4,
     "metadata": {},
     "output_type": "execute_result"
    }
   ],
   "source": [
    "s"
   ]
  },
  {
   "cell_type": "code",
   "execution_count": null,
   "metadata": {},
   "outputs": [],
   "source": []
  }
 ],
 "metadata": {
  "kernelspec": {
   "display_name": "Python 3",
   "language": "python",
   "name": "python3"
  },
  "language_info": {
   "codemirror_mode": {
    "name": "ipython",
    "version": 3
   },
   "file_extension": ".py",
   "mimetype": "text/x-python",
   "name": "python",
   "nbconvert_exporter": "python",
   "pygments_lexer": "ipython3",
   "version": "3.7.0"
  }
 },
 "nbformat": 4,
 "nbformat_minor": 2
}
