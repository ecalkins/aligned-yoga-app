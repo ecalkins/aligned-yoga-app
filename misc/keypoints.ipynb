{
 "cells": [
  {
   "cell_type": "markdown",
   "metadata": {},
   "source": [
    "### Reading one of the keypoints json file for warrior and incorrect warrior"
   ]
  },
  {
   "cell_type": "markdown",
   "metadata": {},
   "source": [
    "Link to the key points map:\n",
    "https://github.com/CMU-Perceptual-Computing-Lab/openpose/blob/master/doc/media/keypoints_pose_25.png"
   ]
  },
  {
   "cell_type": "code",
   "execution_count": 311,
   "metadata": {},
   "outputs": [],
   "source": [
    "import json\n",
    "from pprint import pprint\n",
    "import numpy as np"
   ]
  },
  {
   "cell_type": "code",
   "execution_count": 312,
   "metadata": {
    "scrolled": false
   },
   "outputs": [
    {
     "name": "stdout",
     "output_type": "stream",
     "text": [
      "{'people': [{'face_keypoints_2d': [],\n",
      "             'face_keypoints_3d': [],\n",
      "             'hand_left_keypoints_2d': [],\n",
      "             'hand_left_keypoints_3d': [],\n",
      "             'hand_right_keypoints_2d': [],\n",
      "             'hand_right_keypoints_3d': [],\n",
      "             'pose_keypoints_2d': [664.67,\n",
      "                                   202.318,\n",
      "                                   0.920632,\n",
      "                                   693.989,\n",
      "                                   257.204,\n",
      "                                   0.885338,\n",
      "                                   646.996,\n",
      "                                   257.136,\n",
      "                                   0.816551,\n",
      "                                   572.582,\n",
      "                                   237.529,\n",
      "                                   0.808893,\n",
      "                                   478.507,\n",
      "                                   216.048,\n",
      "                                   0.76705,\n",
      "                                   737.126,\n",
      "                                   257.193,\n",
      "                                   0.818614,\n",
      "                                   817.488,\n",
      "                                   259.045,\n",
      "                                   0.890326,\n",
      "                                   882.072,\n",
      "                                   259.149,\n",
      "                                   0.852787,\n",
      "                                   709.634,\n",
      "                                   411.881,\n",
      "                                   0.74827,\n",
      "                                   674.402,\n",
      "                                   411.899,\n",
      "                                   0.716526,\n",
      "                                   572.529,\n",
      "                                   456.959,\n",
      "                                   0.843002,\n",
      "                                   570.525,\n",
      "                                   588.283,\n",
      "                                   0.823482,\n",
      "                                   742.945,\n",
      "                                   409.944,\n",
      "                                   0.712613,\n",
      "                                   807.584,\n",
      "                                   503.957,\n",
      "                                   0.835228,\n",
      "                                   886.094,\n",
      "                                   584.247,\n",
      "                                   0.834873,\n",
      "                                   664.595,\n",
      "                                   194.506,\n",
      "                                   0.757584,\n",
      "                                   678.291,\n",
      "                                   194.456,\n",
      "                                   0.921337,\n",
      "                                   0,\n",
      "                                   0,\n",
      "                                   0,\n",
      "                                   709.628,\n",
      "                                   200.305,\n",
      "                                   0.813924,\n",
      "                                   915.438,\n",
      "                                   599.952,\n",
      "                                   0.73225,\n",
      "                                   917.393,\n",
      "                                   588.25,\n",
      "                                   0.801977,\n",
      "                                   886.1,\n",
      "                                   588.304,\n",
      "                                   0.739586,\n",
      "                                   515.785,\n",
      "                                   611.72,\n",
      "                                   0.590162,\n",
      "                                   521.64,\n",
      "                                   603.909,\n",
      "                                   0.591926,\n",
      "                                   576.533,\n",
      "                                   601.942,\n",
      "                                   0.748496],\n",
      "             'pose_keypoints_3d': []}],\n",
      " 'version': 1.2}\n"
     ]
    }
   ],
   "source": [
    "with open('warrior/warrior_000000000039_keypoints.json') as f:\n",
    "    data = json.load(f)\n",
    "\n",
    "with open('warrior_incorrect/warrior_incorrect_000000000033_keypoints 8.28.45 PM.json') as f1:\n",
    "    data1 = json.load(f1)\n",
    "pprint(data)"
   ]
  },
  {
   "cell_type": "code",
   "execution_count": 313,
   "metadata": {},
   "outputs": [],
   "source": [
    "# Let's take only 'pose_keypoints_2d' array\n",
    "# The array is of length 75 and gives location of 25 keypoints\n",
    "# x, y and third number is always a confidence level of them between 0 and 1\n",
    "warrior = data['people'][0]['pose_keypoints_2d']\n",
    "warrior_incorrect = data1['people'][0]['pose_keypoints_2d']"
   ]
  },
  {
   "cell_type": "code",
   "execution_count": 314,
   "metadata": {},
   "outputs": [
    {
     "name": "stdout",
     "output_type": "stream",
     "text": [
      "[664.67, 202.318, 0.920632, 693.989, 257.204, 0.885338, 646.996, 257.136, 0.816551, 572.582, 237.529, 0.808893, 478.507, 216.048, 0.76705, 737.126, 257.193, 0.818614, 817.488, 259.045, 0.890326, 882.072, 259.149, 0.852787, 709.634, 411.881, 0.74827, 674.402, 411.899, 0.716526, 572.529, 456.959, 0.843002, 570.525, 588.283, 0.823482, 742.945, 409.944, 0.712613, 807.584, 503.957, 0.835228, 886.094, 584.247, 0.834873, 664.595, 194.506, 0.757584, 678.291, 194.456, 0.921337, 0, 0, 0, 709.628, 200.305, 0.813924, 915.438, 599.952, 0.73225, 917.393, 588.25, 0.801977, 886.1, 588.304, 0.739586, 515.785, 611.72, 0.590162, 521.64, 603.909, 0.591926, 576.533, 601.942, 0.748496]\n"
     ]
    }
   ],
   "source": [
    "print(warrior)"
   ]
  },
  {
   "cell_type": "markdown",
   "metadata": {},
   "source": [
    "In warrior 2, the front knee should be 90 degrees angle.\n",
    "To check if it is the case, we can check if the front thigh is parallel to the floor. We would analyze right hip point and right knee point. Their y-coordinates should be the same and the difference would be close to zero."
   ]
  },
  {
   "cell_type": "code",
   "execution_count": 315,
   "metadata": {},
   "outputs": [
    {
     "name": "stdout",
     "output_type": "stream",
     "text": [
      "right hip: x - 709.634, y - 411.881, c - 0.74827\n",
      "right knee: x - 674.402 , y - 411.899,  c - 0.716526\n",
      "Diff between y's 45.06\n"
     ]
    }
   ],
   "source": [
    "# Almost correct or acceptable warrior\n",
    "print(f\"Diff between y's {warrior[31] - warrior[28]}\")"
   ]
  },
  {
   "cell_type": "code",
   "execution_count": 316,
   "metadata": {},
   "outputs": [
    {
     "name": "stdout",
     "output_type": "stream",
     "text": [
      "Diff between y's 84.18100000000004\n"
     ]
    }
   ],
   "source": [
    "# Incorrect warrior position has high y difference of thigh and knee\n",
    "print(f\"Diff between y's {warrior_incorrect[31] - warrior_incorrect[28]}\")"
   ]
  },
  {
   "cell_type": "markdown",
   "metadata": {},
   "source": [
    "### Reading all json files for warrior and warrior_incorrect"
   ]
  },
  {
   "cell_type": "markdown",
   "metadata": {},
   "source": [
    "Outout of OpenPose is about 40 json files (keypoints arrays) per second. Let's examine all keypoints from all json files"
   ]
  },
  {
   "cell_type": "code",
   "execution_count": 318,
   "metadata": {},
   "outputs": [],
   "source": [
    "path_to_json = '/Users/Katja/Desktop/openpose/output/warrior/'"
   ]
  },
  {
   "cell_type": "code",
   "execution_count": 319,
   "metadata": {},
   "outputs": [],
   "source": [
    "from pathlib import Path\n",
    "PATH = Path(path_to_json)\n",
    "files = list(PATH.iterdir())"
   ]
  },
  {
   "cell_type": "code",
   "execution_count": 320,
   "metadata": {},
   "outputs": [],
   "source": [
    "warrior = []\n",
    "for js in files:\n",
    "    data = json.load(open(js,\"r\"))\n",
    "    keypoints = data['people'][0]['pose_keypoints_2d']\n",
    "    warrior.append(keypoints)"
   ]
  },
  {
   "cell_type": "code",
   "execution_count": 321,
   "metadata": {},
   "outputs": [
    {
     "data": {
      "text/plain": [
       "117"
      ]
     },
     "execution_count": 321,
     "metadata": {},
     "output_type": "execute_result"
    }
   ],
   "source": [
    "len(warrior)"
   ]
  },
  {
   "cell_type": "code",
   "execution_count": 322,
   "metadata": {},
   "outputs": [],
   "source": [
    "path_to_json = '/Users/Katja/Desktop/openpose/output/warrior_incorrect/'\n",
    "PATH = Path(path_to_json)\n",
    "files = list(PATH.iterdir())"
   ]
  },
  {
   "cell_type": "code",
   "execution_count": 323,
   "metadata": {},
   "outputs": [],
   "source": [
    "warrior_incorrect = []\n",
    "\n",
    "for js in files:\n",
    "    try:\n",
    "        data = json.load(open(js,\"r\"))\n",
    "        keypoints = data['people'][0]['pose_keypoints_2d']\n",
    "        warrior_incorrect.append(keypoints)\n",
    "    except:\n",
    "        continue"
   ]
  },
  {
   "cell_type": "code",
   "execution_count": 324,
   "metadata": {},
   "outputs": [
    {
     "data": {
      "text/plain": [
       "77"
      ]
     },
     "execution_count": 324,
     "metadata": {},
     "output_type": "execute_result"
    }
   ],
   "source": [
    "len(warrior_incorrect)"
   ]
  },
  {
   "cell_type": "markdown",
   "metadata": {},
   "source": [
    "Let's plot the points"
   ]
  },
  {
   "cell_type": "code",
   "execution_count": 325,
   "metadata": {},
   "outputs": [],
   "source": [
    "x_warrior = []\n",
    "y_warrior = []\n",
    "ct = 0\n",
    "for keypose in warrior:\n",
    "    for c, i in enumerate(keypose):\n",
    "        if (c%3) == 0:\n",
    "            x_warrior.append(i)\n",
    "        if (c%3) == 1:\n",
    "            y_warrior.append(i)"
   ]
  },
  {
   "cell_type": "code",
   "execution_count": 326,
   "metadata": {},
   "outputs": [
    {
     "data": {
      "text/plain": [
       "2925"
      ]
     },
     "execution_count": 326,
     "metadata": {},
     "output_type": "execute_result"
    }
   ],
   "source": [
    "len(x_warrior)\n",
    "len(y_warrior)"
   ]
  },
  {
   "cell_type": "code",
   "execution_count": 327,
   "metadata": {},
   "outputs": [
    {
     "data": {
      "text/plain": [
       "<matplotlib.collections.PathCollection at 0x119ab66d8>"
      ]
     },
     "execution_count": 327,
     "metadata": {},
     "output_type": "execute_result"
    },
    {
     "data": {
      "image/png": "[encoded data removed]",
      "text/plain": [
       "<Figure size 432x288 with 1 Axes>"
      ]
     },
     "metadata": {
      "needs_background": "light"
     },
     "output_type": "display_data"
    }
   ],
   "source": [
    "# Interestingly the points are upside down\n",
    "from matplotlib.pyplot import scatter\n",
    "import matplotlib as plt\n",
    "scatter(x_warrior, y_warrior)"
   ]
  },
  {
   "cell_type": "code",
   "execution_count": 328,
   "metadata": {},
   "outputs": [
    {
     "data": {
      "text/plain": [
       "<matplotlib.collections.PathCollection at 0x11a9f1da0>"
      ]
     },
     "execution_count": 328,
     "metadata": {},
     "output_type": "execute_result"
    },
    {
     "data": {
      "image/png": "[encoded data removed]",
      "text/plain": [
       "<Figure size 432x288 with 1 Axes>"
      ]
     },
     "metadata": {
      "needs_background": "light"
     },
     "output_type": "display_data"
    }
   ],
   "source": [
    "# seems like I am moving a bit too much in the position, and indeed\n",
    "# in the video I am adjusting the pose, so lets plot just the time\n",
    "# slot when I am stable in the pose:\n",
    "scatter(x_warrior[:1000], y_warrior[:1000])"
   ]
  },
  {
   "cell_type": "code",
   "execution_count": 329,
   "metadata": {},
   "outputs": [
    {
     "data": {
      "text/plain": [
       "<matplotlib.collections.PathCollection at 0x11aa4be48>"
      ]
     },
     "execution_count": 329,
     "metadata": {},
     "output_type": "execute_result"
    },
    {
     "data": {
      "image/png": "[encoded data removed]",
      "text/plain": [
       "<Figure size 432x288 with 1 Axes>"
      ]
     },
     "metadata": {
      "needs_background": "light"
     },
     "output_type": "display_data"
    }
   ],
   "source": [
    "x = []\n",
    "y = []\n",
    "ct = 0\n",
    "for keypose in warrior:\n",
    "    for c, i in enumerate(keypose):\n",
    "        if (c%3) == 0:\n",
    "            x.append(i)\n",
    "        if (c%3) == 1:\n",
    "            y.append(i)\n",
    "    ct +=1\n",
    "    if ct == 1:\n",
    "        break\n",
    "scatter(x, y)"
   ]
  },
  {
   "cell_type": "code",
   "execution_count": 330,
   "metadata": {},
   "outputs": [
    {
     "name": "stdout",
     "output_type": "stream",
     "text": [
      "0 664.68 204.282\n",
      "1 692.073 259.115\n",
      "2 646.98 257.194\n",
      "3 572.597 237.509\n",
      "4 486.393 214.08\n",
      "5 733.252 259.146\n",
      "6 817.48 259.187\n",
      "7 882.115 263.01\n",
      "8 701.833 411.951\n",
      "9 666.67 413.823\n",
      "10 570.518 455.046\n",
      "11 570.506 588.25\n",
      "12 735.195 411.875\n",
      "13 803.761 505.878\n",
      "14 885.959 582.313\n",
      "15 664.618 196.342\n",
      "16 678.32 196.323\n",
      "17 0 0\n",
      "18 707.775 204.212\n",
      "19 915.343 599.976\n",
      "20 915.486 588.272\n",
      "21 886.034 588.197\n",
      "22 515.76 609.804\n",
      "23 521.606 603.885\n",
      "24 576.51 601.873\n"
     ]
    }
   ],
   "source": [
    "# seems like numeration in OpenPose is not accurate, trying to locate knee and hip index\n",
    "# front knee - 10 (31), front hip 9 (28)\n",
    "for i, (x, y) in enumerate(zip(x, y)):\n",
    "    print(i, x, y)"
   ]
  },
  {
   "cell_type": "code",
   "execution_count": 332,
   "metadata": {},
   "outputs": [
    {
     "data": {
      "text/plain": [
       "<matplotlib.collections.PathCollection at 0x11abb7898>"
      ]
     },
     "execution_count": 332,
     "metadata": {},
     "output_type": "execute_result"
    },
    {
     "data": {
      "image/png": "[encoded data removed]",
      "text/plain": [
       "<Figure size 432x288 with 1 Axes>"
      ]
     },
     "metadata": {
      "needs_background": "light"
     },
     "output_type": "display_data"
    }
   ],
   "source": [
    "# Scatter of incorrect warrior\n",
    "x_warrior_incorrect = []\n",
    "y_warrior_incorrect = []\n",
    "\n",
    "for keypose in warrior_incorrect:\n",
    "    for c, i in enumerate(keypose):\n",
    "        if (c%3) == 0:\n",
    "            x_warrior_incorrect.append(i)\n",
    "        if (c%3) == 1:\n",
    "            y_warrior_incorrect.append(i)\n",
    "scatter(x_warrior_incorrect, y_warrior_incorrect)"
   ]
  },
  {
   "cell_type": "markdown",
   "metadata": {},
   "source": [
    "Let's examine again the right thigh and right knee difference"
   ]
  },
  {
   "cell_type": "code",
   "execution_count": 333,
   "metadata": {},
   "outputs": [],
   "source": [
    "warrior_front_knee = []\n",
    "ct = 0\n",
    "for keypoints in warrior:\n",
    "    diff = keypoints[31] - keypoints[28]\n",
    "    warrior_front_knee.append(diff)\n",
    "    ct += 1\n",
    "    if ct == 300: #taking only the stable position in the video\n",
    "        break"
   ]
  },
  {
   "cell_type": "code",
   "execution_count": 334,
   "metadata": {},
   "outputs": [
    {
     "data": {
      "text/plain": [
       "45.904435897435896"
      ]
     },
     "execution_count": 334,
     "metadata": {},
     "output_type": "execute_result"
    }
   ],
   "source": [
    "np.mean(warrior_front_knee)"
   ]
  },
  {
   "cell_type": "code",
   "execution_count": 336,
   "metadata": {},
   "outputs": [],
   "source": [
    "warrior_incorrect_front_knee = []\n",
    "for keypoints in warrior_incorrect:\n",
    "    diff = keypoints[31] - keypoints[28]\n",
    "    warrior_incorrect_front_knee.append(diff)"
   ]
  },
  {
   "cell_type": "code",
   "execution_count": 337,
   "metadata": {},
   "outputs": [
    {
     "data": {
      "text/plain": [
       "85.13681818181819"
      ]
     },
     "execution_count": 337,
     "metadata": {},
     "output_type": "execute_result"
    }
   ],
   "source": [
    "np.mean(warrior_incorrect_front_knee)"
   ]
  },
  {
   "cell_type": "markdown",
   "metadata": {},
   "source": [
    "We can see that the mean of all front knee and thigh keypoints in correct warrior are about 46 and in incorrect the difference is higher at 85 showing that the knee angle is unlikely to be 90 degrees."
   ]
  }
 ],
 "metadata": {
  "kernelspec": {
   "display_name": "Python 3",
   "language": "python",
   "name": "python3"
  },
  "language_info": {
   "codemirror_mode": {
    "name": "ipython",
    "version": 3
   },
   "file_extension": ".py",
   "mimetype": "text/x-python",
   "name": "python",
   "nbconvert_exporter": "python",
   "pygments_lexer": "ipython3",
   "version": "3.7.1"
  }
 },
 "nbformat": 4,
 "nbformat_minor": 2
}
